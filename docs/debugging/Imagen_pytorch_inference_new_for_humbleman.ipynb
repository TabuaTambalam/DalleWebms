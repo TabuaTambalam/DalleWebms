{
  "cells": [
    {
      "cell_type": "markdown",
      "metadata": {
        "id": "tXkwem58FrAj"
      },
      "source": [
        "## Installation"
      ]
    },
    {
      "cell_type": "code",
      "execution_count": 1,
      "metadata": {
        "id": "jFduUePWDiRr"
      },
      "outputs": [],
      "source": [
        "import os\n",
        "if not os.path.isfile('/content/model.pt'):\n",
        "  !wget https://huggingface.co/Cene655/ImagenT5-3B/resolve/main/model.pt\n",
        "  !pip install accelerate\n",
        "  !pip install git+https://github.com/huggingface/transformers.git\n",
        "  !pip install git+https://github.com/cene555/Imagen-pytorch.git\n",
        "  !pip install git+https://github.com/openai/CLIP.git"
      ]
    },
    {
      "cell_type": "code",
      "execution_count": 2,
      "metadata": {
        "id": "HAGoFjvGZJ6s"
      },
      "outputs": [],
      "source": [
        "from PIL import Image\n",
        "from IPython.display import display\n",
        "import torch as th\n",
        "from imagen_pytorch.model_creation import create_model_and_diffusion as create_model_and_diffusion_dalle2\n",
        "from imagen_pytorch.model_creation import model_and_diffusion_defaults as model_and_diffusion_defaults_dalle2\n",
        "from transformers import AutoTokenizer\n",
        "import cv2\n",
        "\n",
        "import glob\n",
        "\n",
        "has_cuda = th.cuda.is_available()\n",
        "device = th.device('cpu' if not has_cuda else 'cuda')"
      ]
    },
    {
      "cell_type": "code",
      "execution_count": 3,
      "metadata": {
        "id": "Kp6HRM1vdFZq"
      },
      "outputs": [],
      "source": [
        "from accelerate import init_empty_weights\n",
        "from torch import LongTensor, FloatTensor, BoolTensor,nn\n",
        "from typing import Iterator, List, Tuple, Dict\n",
        "\n",
        "def get_keys_to_submodule(model: nn.Module) -> Dict[str, nn.Module]:\n",
        "    keys_to_submodule = {}\n",
        "    # iterate all submodules\n",
        "    for submodule_name, submodule in model.named_modules():\n",
        "        # iterate all paramters in each submobule\n",
        "        for param_name, param in submodule.named_parameters():\n",
        "            # param_name is organized as <name>.<subname>.<subsubname> ...\n",
        "            # the more we go deep in the model, the less \"subname\"s we have\n",
        "            splitted_param_name = param_name.split('.')\n",
        "            # if we have only one subname, then it means that we reach a \"leaf\" submodule, \n",
        "            # we cannot go inside it anymore. This is the actual parameter\n",
        "            is_leaf_param = len(splitted_param_name) == 1\n",
        "            if is_leaf_param:\n",
        "                # we recreate the correct key\n",
        "                key = f\"{submodule_name}.{param_name}\"\n",
        "                # we associate this key with this submodule\n",
        "                keys_to_submodule[key] = submodule\n",
        "                \n",
        "    return keys_to_submodule\n",
        "\n",
        "def load_state_dict_with_low_memory(model: nn.Module, state_dict):\n",
        "    print('======hacky load======')\n",
        "    # free up memory by placing the model in the `meta` device\n",
        "    keys_to_submodule = get_keys_to_submodule(model)\n",
        "    mste=model.state_dict()\n",
        "    for key, submodule in keys_to_submodule.items():\n",
        "        # get the valye from the state_dict\n",
        "        if key in state_dict:\n",
        "          val = state_dict[key]\n",
        "        else:\n",
        "          print(key)\n",
        "          val = th.ones(mste[key].shape, dtype= torch.float32)\n",
        "        # we need to substitute the parameter inside submodule, \n",
        "        # remember key is composed of <name>.<subname>.<subsubname>\n",
        "        # the actual submodule's parameter is stored inside the \n",
        "        # last subname. If key is `in_proj.weight`, the correct field if `weight`\n",
        "        param_name = key.split('.')[-1]\n",
        "        #param_dtype = getattr(submodule, param_name).dtype\n",
        "        #val = val.to(param_dtype)\n",
        "        # create a new parameter\n",
        "        new_val = th.nn.Parameter(val)\n",
        "        setattr(submodule, param_name, new_val)\n",
        "\n",
        "def model_fn(x_t, ts, **kwargs):\n",
        "    guidance_scale = 5\n",
        "    half = x_t[: len(x_t) // 2]\n",
        "    combined = th.cat([half, half], dim=0)\n",
        "    model_out = model(combined, ts, **kwargs)\n",
        "    eps, rest = model_out[:, :3], model_out[:, 3:]\n",
        "    cond_eps, uncond_eps = th.split(eps, len(eps) // 2, dim=0)\n",
        "    half_eps = uncond_eps + guidance_scale * (cond_eps - uncond_eps)\n",
        "    eps = th.cat([half_eps, half_eps], dim=0)\n",
        "    return th.cat([eps, rest], dim=1)\n",
        "def show_images(batch: th.Tensor, savename='sav0'):\n",
        "    \"\"\" Display a batch of images inline.\"\"\"\n",
        "    scaled = ((batch + 1)*127.5).round().clamp(0,255).to(th.uint8).cpu()\n",
        "    th.save(scaled,savename+'.pt')\n",
        "    reshaped = scaled.permute(2, 0, 3, 1).reshape([batch.shape[2], -1, 3])\n",
        "    display(Image.fromarray(reshaped.numpy()))\n",
        "def get_numpy_img(img):\n",
        "    scaled = ((img + 1)*127.5).round().clamp(0,255).to(th.uint8).cpu()\n",
        "    reshaped = scaled.permute(2, 0, 3, 1).reshape([img.shape[2], -1, 3])\n",
        "    return cv2.cvtColor(reshaped.numpy(), cv2.COLOR_BGR2RGB)\n",
        "def _fix_path(path):\n",
        "  d = th.load(path,map_location='cpu')\n",
        "  checkpoint = {}\n",
        "  for key in d.keys():\n",
        "    checkpoint[key.replace('module.','')] = d[key]\n",
        "  return checkpoint"
      ]
    },
    {
      "cell_type": "markdown",
      "metadata": {
        "id": "qhCZMEueGk3Q"
      },
      "source": [
        "## Setting Up"
      ]
    },
    {
      "cell_type": "code",
      "execution_count": null,
      "metadata": {
        "id": "veXmk5XTZOuy"
      },
      "outputs": [],
      "source": [
        "options = model_and_diffusion_defaults_dalle2()\n",
        "options['use_fp16'] = False\n",
        "options['diffusion_steps'] = 200\n",
        "options['num_res_blocks'] = 3\n",
        "options['t5_name'] = 't5-3b'\n",
        "options['cache_text_emb'] = True\n",
        "with init_empty_weights():\n",
        "  model, diffusion = create_model_and_diffusion_dalle2(**options)\n",
        "\n",
        "load_state_dict_with_low_memory(model, _fix_path('/content/model.pt'))\n",
        "\n",
        "model.requires_grad_(False).eval()\n",
        "\n",
        "#if has_cuda:\n",
        "#    model.convert_to_fp16()\n",
        "\n",
        "model = model.cuda()"
      ]
    },
    {
      "cell_type": "code",
      "execution_count": null,
      "metadata": {
        "id": "ilBtcMcGcUSZ"
      },
      "outputs": [],
      "source": [
        "tokenizer = AutoTokenizer.from_pretrained(options['t5_name'])"
      ]
    },
    {
      "cell_type": "code",
      "execution_count": 11,
      "metadata": {
        "id": "I1E6jjzhvV40",
        "cellView": "form"
      },
      "outputs": [],
      "source": [
        "#@title What do you want to generate?\n",
        "\n",
        "prompt = 'A blue cube on top of red cube on fire'#@param {type:\"string\"}"
      ]
    },
    {
      "cell_type": "code",
      "execution_count": 12,
      "metadata": {
        "id": "h3FFIeLrcuTX"
      },
      "outputs": [],
      "source": [
        "text_encoding = tokenizer(\n",
        "    prompt,\n",
        "    max_length=128,\n",
        "    padding=\"max_length\",\n",
        "    truncation=True,\n",
        "    return_attention_mask=True,\n",
        "    add_special_tokens=True,\n",
        "    return_tensors=\"pt\"\n",
        ")\n",
        "\n",
        "uncond_text_encoding = tokenizer(\n",
        "    '',\n",
        "    max_length=128,\n",
        "    padding=\"max_length\",\n",
        "    truncation=True,\n",
        "    return_attention_mask=True,\n",
        "    add_special_tokens=True,\n",
        "    return_tensors=\"pt\"\n",
        ")"
      ]
    },
    {
      "cell_type": "code",
      "execution_count": 13,
      "metadata": {
        "id": "1Imtn9DVZD99"
      },
      "outputs": [],
      "source": [
        "import numpy as np\n",
        "batch_size = 4\n",
        "cond_tokens = th.from_numpy(np.array([text_encoding['input_ids'][0].numpy() for i in range(batch_size)]))\n",
        "uncond_tokens = th.from_numpy(np.array([uncond_text_encoding['input_ids'][0].numpy() for i in range(batch_size)]))\n",
        "cond_attention_mask = th.from_numpy(np.array([text_encoding['attention_mask'][0].numpy() for i in range(batch_size)]))\n",
        "uncond_attention_mask = th.from_numpy(np.array([uncond_text_encoding['attention_mask'][0].numpy() for i in range(batch_size)]))\n",
        "model_kwargs = {}\n",
        "model_kwargs[\"tokens\"] = th.cat((cond_tokens,\n",
        "                                 uncond_tokens)).to(device)\n",
        "model_kwargs[\"mask\"] = th.cat((cond_attention_mask,\n",
        "                               uncond_attention_mask)).to(device)"
      ]
    },
    {
      "cell_type": "markdown",
      "metadata": {
        "id": "y0tzvo1tG9vS"
      },
      "source": [
        "## Generation"
      ]
    },
    {
      "cell_type": "code",
      "execution_count": 14,
      "metadata": {
        "id": "D-4GzOBadCbj",
        "colab": {
          "base_uri": "https://localhost:8080/",
          "height": 49,
          "referenced_widgets": [
            "02ca2a771538486db04ee9ae1fc0b24b",
            "6c7f2a8182fa408d9a1db30a4ee78954",
            "e0e2ef1e59b3479191a37203d45a6631",
            "3ae25932dc4840b0890b33eb6e57bed1",
            "8745ff389a8a4eabb8bda512e2cc3f51",
            "d90cca8aeec947009cab5dfa736e553b",
            "3b4d1a6dfc724f9eba004ce14e8e6333",
            "c9fcee3094df4a29937782eece089362",
            "6410fbd07e554c7a8f62034bc134ace6",
            "9e6cf77fadf146ceb4f9c80f9354bd03",
            "22c80c7bfa214ff0bf3335493274c171"
          ]
        },
        "outputId": "48c920d6-3808-4f0e-97cf-3d0d41b129dd"
      },
      "outputs": [
        {
          "output_type": "display_data",
          "data": {
            "text/plain": [
              "  0%|          | 0/200 [00:00<?, ?it/s]"
            ],
            "application/vnd.jupyter.widget-view+json": {
              "version_major": 2,
              "version_minor": 0,
              "model_id": "02ca2a771538486db04ee9ae1fc0b24b"
            }
          },
          "metadata": {}
        }
      ],
      "source": [
        "model.del_cache()\n",
        "sample = diffusion.p_sample_loop(\n",
        "    model_fn,\n",
        "    (batch_size * 2, 3, 64, 64),\n",
        "    clip_denoised=True,\n",
        "    model_kwargs=model_kwargs,\n",
        "    device='cuda',\n",
        "    progress=True,\n",
        ")[:batch_size]\n",
        "model.del_cache()"
      ]
    },
    {
      "cell_type": "code",
      "execution_count": 16,
      "metadata": {
        "id": "hvsr_S-xMwyG",
        "colab": {
          "base_uri": "https://localhost:8080/",
          "height": 81
        },
        "outputId": "b5d5132f-10c1-4fe5-c02f-fd522a038630"
      },
      "outputs": [
        {
          "output_type": "display_data",
          "data": {
            "text/plain": [
              "<PIL.Image.Image image mode=RGB size=256x64 at 0x7FE746201F90>"
            ],
            "image/png": "[encoded data removed]"
          },
          "metadata": {}
        }
      ],
      "source": [
        "show_images(sample,'sav_cube')"
      ]
    },
    {
      "cell_type": "code",
      "execution_count": null,
      "metadata": {
        "id": "lsYwSFrE6zrJ"
      },
      "outputs": [],
      "source": [
        "for i in sample:\n",
        "    show_images(i.unsqueeze(0))"
      ]
    },
    {
      "cell_type": "code",
      "execution_count": null,
      "metadata": {
        "id": "h4hoHPBw2DQh"
      },
      "outputs": [],
      "source": [
        "new_img = get_numpy_img(sample)"
      ]
    }
  ],
  "metadata": {
    "accelerator": "GPU",
    "colab": {
      "collapsed_sections": ["tXkwem58FrAj"],
      "name": "Imagen_pytorch_inference_new_for_humbleman.ipynb",
      "provenance": []
    },
    "kernelspec": {
      "display_name": "Python 3",
      "name": "python3"
    },
    "language_info": {
      "name": "python"
    },
    "gpuClass": "standard",
    "widgets": {
      "application/vnd.jupyter.widget-state+json": {
        "02ca2a771538486db04ee9ae1fc0b24b": {
          "model_module": "@jupyter-widgets/controls",
          "model_name": "HBoxModel",
          "model_module_version": "1.5.0",
          "state": {
            "_dom_classes": [],
            "_model_module": "@jupyter-widgets/controls",
            "_model_module_version": "1.5.0",
            "_model_name": "HBoxModel",
            "_view_count": null,
            "_view_module": "@jupyter-widgets/controls",
            "_view_module_version": "1.5.0",
            "_view_name": "HBoxView",
            "box_style": "",
            "children": [
              "IPY_MODEL_6c7f2a8182fa408d9a1db30a4ee78954",
              "IPY_MODEL_e0e2ef1e59b3479191a37203d45a6631",
              "IPY_MODEL_3ae25932dc4840b0890b33eb6e57bed1"
            ],
            "layout": "IPY_MODEL_8745ff389a8a4eabb8bda512e2cc3f51"
          }
        },
        "6c7f2a8182fa408d9a1db30a4ee78954": {
          "model_module": "@jupyter-widgets/controls",
          "model_name": "HTMLModel",
          "model_module_version": "1.5.0",
          "state": {
            "_dom_classes": [],
            "_model_module": "@jupyter-widgets/controls",
            "_model_module_version": "1.5.0",
            "_model_name": "HTMLModel",
            "_view_count": null,
            "_view_module": "@jupyter-widgets/controls",
            "_view_module_version": "1.5.0",
            "_view_name": "HTMLView",
            "description": "",
            "description_tooltip": null,
            "layout": "IPY_MODEL_d90cca8aeec947009cab5dfa736e553b",
            "placeholder": "​",
            "style": "IPY_MODEL_3b4d1a6dfc724f9eba004ce14e8e6333",
            "value": "100%"
          }
        },
        "e0e2ef1e59b3479191a37203d45a6631": {
          "model_module": "@jupyter-widgets/controls",
          "model_name": "FloatProgressModel",
          "model_module_version": "1.5.0",
          "state": {
            "_dom_classes": [],
            "_model_module": "@jupyter-widgets/controls",
            "_model_module_version": "1.5.0",
            "_model_name": "FloatProgressModel",
            "_view_count": null,
            "_view_module": "@jupyter-widgets/controls",
            "_view_module_version": "1.5.0",
            "_view_name": "ProgressView",
            "bar_style": "success",
            "description": "",
            "description_tooltip": null,
            "layout": "IPY_MODEL_c9fcee3094df4a29937782eece089362",
            "max": 200,
            "min": 0,
            "orientation": "horizontal",
            "style": "IPY_MODEL_6410fbd07e554c7a8f62034bc134ace6",
            "value": 200
          }
        },
        "3ae25932dc4840b0890b33eb6e57bed1": {
          "model_module": "@jupyter-widgets/controls",
          "model_name": "HTMLModel",
          "model_module_version": "1.5.0",
          "state": {
            "_dom_classes": [],
            "_model_module": "@jupyter-widgets/controls",
            "_model_module_version": "1.5.0",
            "_model_name": "HTMLModel",
            "_view_count": null,
            "_view_module": "@jupyter-widgets/controls",
            "_view_module_version": "1.5.0",
            "_view_name": "HTMLView",
            "description": "",
            "description_tooltip": null,
            "layout": "IPY_MODEL_9e6cf77fadf146ceb4f9c80f9354bd03",
            "placeholder": "​",
            "style": "IPY_MODEL_22c80c7bfa214ff0bf3335493274c171",
            "value": " 200/200 [01:35&lt;00:00,  2.14it/s]"
          }
        },
        "8745ff389a8a4eabb8bda512e2cc3f51": {
          "model_module": "@jupyter-widgets/base",
          "model_name": "LayoutModel",
          "model_module_version": "1.2.0",
          "state": {
            "_model_module": "@jupyter-widgets/base",
            "_model_module_version": "1.2.0",
            "_model_name": "LayoutModel",
            "_view_count": null,
            "_view_module": "@jupyter-widgets/base",
            "_view_module_version": "1.2.0",
            "_view_name": "LayoutView",
            "align_content": null,
            "align_items": null,
            "align_self": null,
            "border": null,
            "bottom": null,
            "display": null,
            "flex": null,
            "flex_flow": null,
            "grid_area": null,
            "grid_auto_columns": null,
            "grid_auto_flow": null,
            "grid_auto_rows": null,
            "grid_column": null,
            "grid_gap": null,
            "grid_row": null,
            "grid_template_areas": null,
            "grid_template_columns": null,
            "grid_template_rows": null,
            "height": null,
            "justify_content": null,
            "justify_items": null,
            "left": null,
            "margin": null,
            "max_height": null,
            "max_width": null,
            "min_height": null,
            "min_width": null,
            "object_fit": null,
            "object_position": null,
            "order": null,
            "overflow": null,
            "overflow_x": null,
            "overflow_y": null,
            "padding": null,
            "right": null,
            "top": null,
            "visibility": null,
            "width": null
          }
        },
        "d90cca8aeec947009cab5dfa736e553b": {
          "model_module": "@jupyter-widgets/base",
          "model_name": "LayoutModel",
          "model_module_version": "1.2.0",
          "state": {
            "_model_module": "@jupyter-widgets/base",
            "_model_module_version": "1.2.0",
            "_model_name": "LayoutModel",
            "_view_count": null,
            "_view_module": "@jupyter-widgets/base",
            "_view_module_version": "1.2.0",
            "_view_name": "LayoutView",
            "align_content": null,
            "align_items": null,
            "align_self": null,
            "border": null,
            "bottom": null,
            "display": null,
            "flex": null,
            "flex_flow": null,
            "grid_area": null,
            "grid_auto_columns": null,
            "grid_auto_flow": null,
            "grid_auto_rows": null,
            "grid_column": null,
            "grid_gap": null,
            "grid_row": null,
            "grid_template_areas": null,
            "grid_template_columns": null,
            "grid_template_rows": null,
            "height": null,
            "justify_content": null,
            "justify_items": null,
            "left": null,
            "margin": null,
            "max_height": null,
            "max_width": null,
            "min_height": null,
            "min_width": null,
            "object_fit": null,
            "object_position": null,
            "order": null,
            "overflow": null,
            "overflow_x": null,
            "overflow_y": null,
            "padding": null,
            "right": null,
            "top": null,
            "visibility": null,
            "width": null
          }
        },
        "3b4d1a6dfc724f9eba004ce14e8e6333": {
          "model_module": "@jupyter-widgets/controls",
          "model_name": "DescriptionStyleModel",
          "model_module_version": "1.5.0",
          "state": {
            "_model_module": "@jupyter-widgets/controls",
            "_model_module_version": "1.5.0",
            "_model_name": "DescriptionStyleModel",
            "_view_count": null,
            "_view_module": "@jupyter-widgets/base",
            "_view_module_version": "1.2.0",
            "_view_name": "StyleView",
            "description_width": ""
          }
        },
        "c9fcee3094df4a29937782eece089362": {
          "model_module": "@jupyter-widgets/base",
          "model_name": "LayoutModel",
          "model_module_version": "1.2.0",
          "state": {
            "_model_module": "@jupyter-widgets/base",
            "_model_module_version": "1.2.0",
            "_model_name": "LayoutModel",
            "_view_count": null,
            "_view_module": "@jupyter-widgets/base",
            "_view_module_version": "1.2.0",
            "_view_name": "LayoutView",
            "align_content": null,
            "align_items": null,
            "align_self": null,
            "border": null,
            "bottom": null,
            "display": null,
            "flex": null,
            "flex_flow": null,
            "grid_area": null,
            "grid_auto_columns": null,
            "grid_auto_flow": null,
            "grid_auto_rows": null,
            "grid_column": null,
            "grid_gap": null,
            "grid_row": null,
            "grid_template_areas": null,
            "grid_template_columns": null,
            "grid_template_rows": null,
            "height": null,
            "justify_content": null,
            "justify_items": null,
            "left": null,
            "margin": null,
            "max_height": null,
            "max_width": null,
            "min_height": null,
            "min_width": null,
            "object_fit": null,
            "object_position": null,
            "order": null,
            "overflow": null,
            "overflow_x": null,
            "overflow_y": null,
            "padding": null,
            "right": null,
            "top": null,
            "visibility": null,
            "width": null
          }
        },
        "6410fbd07e554c7a8f62034bc134ace6": {
          "model_module": "@jupyter-widgets/controls",
          "model_name": "ProgressStyleModel",
          "model_module_version": "1.5.0",
          "state": {
            "_model_module": "@jupyter-widgets/controls",
            "_model_module_version": "1.5.0",
            "_model_name": "ProgressStyleModel",
            "_view_count": null,
            "_view_module": "@jupyter-widgets/base",
            "_view_module_version": "1.2.0",
            "_view_name": "StyleView",
            "bar_color": null,
            "description_width": ""
          }
        },
        "9e6cf77fadf146ceb4f9c80f9354bd03": {
          "model_module": "@jupyter-widgets/base",
          "model_name": "LayoutModel",
          "model_module_version": "1.2.0",
          "state": {
            "_model_module": "@jupyter-widgets/base",
            "_model_module_version": "1.2.0",
            "_model_name": "LayoutModel",
            "_view_count": null,
            "_view_module": "@jupyter-widgets/base",
            "_view_module_version": "1.2.0",
            "_view_name": "LayoutView",
            "align_content": null,
            "align_items": null,
            "align_self": null,
            "border": null,
            "bottom": null,
            "display": null,
            "flex": null,
            "flex_flow": null,
            "grid_area": null,
            "grid_auto_columns": null,
            "grid_auto_flow": null,
            "grid_auto_rows": null,
            "grid_column": null,
            "grid_gap": null,
            "grid_row": null,
            "grid_template_areas": null,
            "grid_template_columns": null,
            "grid_template_rows": null,
            "height": null,
            "justify_content": null,
            "justify_items": null,
            "left": null,
            "margin": null,
            "max_height": null,
            "max_width": null,
            "min_height": null,
            "min_width": null,
            "object_fit": null,
            "object_position": null,
            "order": null,
            "overflow": null,
            "overflow_x": null,
            "overflow_y": null,
            "padding": null,
            "right": null,
            "top": null,
            "visibility": null,
            "width": null
          }
        },
        "22c80c7bfa214ff0bf3335493274c171": {
          "model_module": "@jupyter-widgets/controls",
          "model_name": "DescriptionStyleModel",
          "model_module_version": "1.5.0",
          "state": {
            "_model_module": "@jupyter-widgets/controls",
            "_model_module_version": "1.5.0",
            "_model_name": "DescriptionStyleModel",
            "_view_count": null,
            "_view_module": "@jupyter-widgets/base",
            "_view_module_version": "1.2.0",
            "_view_name": "StyleView",
            "description_width": ""
          }
        }
      }
    }
  },
  "nbformat": 4,
  "nbformat_minor": 0
}